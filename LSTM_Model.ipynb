{
 "cells": [
  {
   "cell_type": "markdown",
   "id": "8cd50d9e",
   "metadata": {},
   "source": [
    "# 📈 Bitcoin Price Prediction Using LSTM\n",
    "This notebook builds an LSTM-based Recurrent Neural Network to predict Bitcoin prices using historical data."
   ]
  },
  {
   "cell_type": "code",
   "execution_count": 1,
   "id": "55c4ed6f",
   "metadata": {},
   "outputs": [
    {
     "name": "stdout",
     "output_type": "stream",
     "text": [
      "WARNING:tensorflow:From C:\\Users\\Administrator\\anaconda3\\lib\\site-packages\\keras\\src\\losses.py:2976: The name tf.losses.sparse_softmax_cross_entropy is deprecated. Please use tf.compat.v1.losses.sparse_softmax_cross_entropy instead.\n",
      "\n"
     ]
    }
   ],
   "source": [
    "# Import Required Libraries\n",
    "import numpy as np\n",
    "import pandas as pd\n",
    "import matplotlib.pyplot as plt\n",
    "import seaborn as sns\n",
    "from sklearn.preprocessing import MinMaxScaler\n",
    "from tensorflow.keras import Sequential\n",
    "from tensorflow.keras.layers import Dense, LSTM, Dropout\n",
    "from sklearn.metrics import mean_squared_error, mean_absolute_error, r2_score"
   ]
  },
  {
   "cell_type": "markdown",
   "id": "212c7544",
   "metadata": {},
   "source": [
    "# 📊 2. Load the Dataset\n",
    "We read historical Bitcoin data and preview the latest records."
   ]
  },
  {
   "cell_type": "code",
   "execution_count": 2,
   "id": "e5b619ee",
   "metadata": {},
   "outputs": [
    {
     "data": {
      "text/html": [
       "<div>\n",
       "<style scoped>\n",
       "    .dataframe tbody tr th:only-of-type {\n",
       "        vertical-align: middle;\n",
       "    }\n",
       "\n",
       "    .dataframe tbody tr th {\n",
       "        vertical-align: top;\n",
       "    }\n",
       "\n",
       "    .dataframe thead th {\n",
       "        text-align: right;\n",
       "    }\n",
       "</style>\n",
       "<table border=\"1\" class=\"dataframe\">\n",
       "  <thead>\n",
       "    <tr style=\"text-align: right;\">\n",
       "      <th></th>\n",
       "      <th>Date</th>\n",
       "      <th>Open</th>\n",
       "      <th>High</th>\n",
       "      <th>Low</th>\n",
       "      <th>Close</th>\n",
       "      <th>Adj Close</th>\n",
       "      <th>Volume</th>\n",
       "    </tr>\n",
       "  </thead>\n",
       "  <tbody>\n",
       "    <tr>\n",
       "      <th>2440</th>\n",
       "      <td>2021-05-23</td>\n",
       "      <td>37531.449219</td>\n",
       "      <td>38289.218750</td>\n",
       "      <td>31227.339844</td>\n",
       "      <td>34770.582031</td>\n",
       "      <td>34770.582031</td>\n",
       "      <td>78469274361</td>\n",
       "    </tr>\n",
       "    <tr>\n",
       "      <th>2441</th>\n",
       "      <td>2021-05-24</td>\n",
       "      <td>34700.363281</td>\n",
       "      <td>39835.140625</td>\n",
       "      <td>34551.082031</td>\n",
       "      <td>38705.980469</td>\n",
       "      <td>38705.980469</td>\n",
       "      <td>67359584098</td>\n",
       "    </tr>\n",
       "    <tr>\n",
       "      <th>2442</th>\n",
       "      <td>2021-05-25</td>\n",
       "      <td>38795.781250</td>\n",
       "      <td>39776.351563</td>\n",
       "      <td>36581.429688</td>\n",
       "      <td>38402.222656</td>\n",
       "      <td>38402.222656</td>\n",
       "      <td>56211915803</td>\n",
       "    </tr>\n",
       "    <tr>\n",
       "      <th>2443</th>\n",
       "      <td>2021-05-26</td>\n",
       "      <td>38392.625000</td>\n",
       "      <td>40782.078125</td>\n",
       "      <td>37905.835938</td>\n",
       "      <td>39294.199219</td>\n",
       "      <td>39294.199219</td>\n",
       "      <td>51346735160</td>\n",
       "    </tr>\n",
       "    <tr>\n",
       "      <th>2444</th>\n",
       "      <td>2021-05-27</td>\n",
       "      <td>39316.890625</td>\n",
       "      <td>40379.617188</td>\n",
       "      <td>37247.902344</td>\n",
       "      <td>38436.968750</td>\n",
       "      <td>38436.968750</td>\n",
       "      <td>43210968721</td>\n",
       "    </tr>\n",
       "  </tbody>\n",
       "</table>\n",
       "</div>"
      ],
      "text/plain": [
       "           Date          Open          High           Low         Close  \\\n",
       "2440 2021-05-23  37531.449219  38289.218750  31227.339844  34770.582031   \n",
       "2441 2021-05-24  34700.363281  39835.140625  34551.082031  38705.980469   \n",
       "2442 2021-05-25  38795.781250  39776.351563  36581.429688  38402.222656   \n",
       "2443 2021-05-26  38392.625000  40782.078125  37905.835938  39294.199219   \n",
       "2444 2021-05-27  39316.890625  40379.617188  37247.902344  38436.968750   \n",
       "\n",
       "         Adj Close       Volume  \n",
       "2440  34770.582031  78469274361  \n",
       "2441  38705.980469  67359584098  \n",
       "2442  38402.222656  56211915803  \n",
       "2443  39294.199219  51346735160  \n",
       "2444  38436.968750  43210968721  "
      ]
     },
     "execution_count": 2,
     "metadata": {},
     "output_type": "execute_result"
    }
   ],
   "source": [
    "# Load the dataset\n",
    "bitcoin_data = pd.read_csv('....\\\\Documents\\\\BitCoin_Minor_3-2\\\\BTC-USD_1.csv')\n",
    "bitcoin_data['Date'] = pd.to_datetime(bitcoin_data['Date'], format='%Y-%m-%d')\n",
    "bitcoin_data.tail()"
   ]
  },
  {
   "cell_type": "markdown",
   "id": "708a30ad",
   "metadata": {},
   "source": [
    "# 🧹 3. Data Preprocessing\n",
    "We split the data into training and testing sets based on date and remove unnecessary columns."
   ]
  },
  {
   "cell_type": "code",
   "execution_count": 3,
   "id": "583ce0a8",
   "metadata": {},
   "outputs": [
    {
     "name": "stdout",
     "output_type": "stream",
     "text": [
      "X_train shape: (1872, 60, 5)\n",
      "Y_train shape: (1872,)\n"
     ]
    }
   ],
   "source": [
    "# Split into training and testing sets\n",
    "bitcoin_data_training = bitcoin_data[bitcoin_data['Date'] < '2020-01-01'].copy()\n",
    "bitcoin_data_testing = bitcoin_data[bitcoin_data['Date'] >= '2020-01-01'].copy()\n",
    "\n",
    "# Drop columns not used for training\n",
    "training_data = bitcoin_data_training.drop(['Date', 'Adj Close'], axis=1)\n",
    "\n",
    "# Apply MinMax Scaling\n",
    "scaler = MinMaxScaler()\n",
    "scaled_training_data = scaler.fit_transform(training_data)\n",
    "\n",
    "# Prepare sequences\n",
    "X_train, Y_train = [], []\n",
    "for i in range(60, scaled_training_data.shape[0]):\n",
    "    X_train.append(scaled_training_data[i-60:i])\n",
    "    Y_train.append(scaled_training_data[i, 0])\n",
    "\n",
    "X_train, Y_train = np.array(X_train), np.array(Y_train)\n",
    "\n",
    "print(\"X_train shape:\", X_train.shape)\n",
    "print(\"Y_train shape:\", Y_train.shape)"
   ]
  },
  {
   "cell_type": "markdown",
   "id": "b1eec694",
   "metadata": {},
   "source": [
    "# 🧠 4. Build the LSTM Model\n",
    "We use an LSTM layer followed by a dropout and dense layer to predict Bitcoin prices."
   ]
  },
  {
   "cell_type": "code",
   "execution_count": 4,
   "id": "c47e155b",
   "metadata": {},
   "outputs": [
    {
     "name": "stdout",
     "output_type": "stream",
     "text": [
      "WARNING:tensorflow:From C:\\Users\\Administrator\\anaconda3\\lib\\site-packages\\keras\\src\\backend.py:873: The name tf.get_default_graph is deprecated. Please use tf.compat.v1.get_default_graph instead.\n",
      "\n",
      "WARNING:tensorflow:From C:\\Users\\Administrator\\anaconda3\\lib\\site-packages\\keras\\src\\optimizers\\__init__.py:309: The name tf.train.Optimizer is deprecated. Please use tf.compat.v1.train.Optimizer instead.\n",
      "\n",
      "Model: \"sequential\"\n",
      "_________________________________________________________________\n",
      " Layer (type)                Output Shape              Param #   \n",
      "=================================================================\n",
      " lstm (LSTM)                 (None, 50)                11200     \n",
      "                                                                 \n",
      " dropout (Dropout)           (None, 50)                0         \n",
      "                                                                 \n",
      " dense (Dense)               (None, 1)                 51        \n",
      "                                                                 \n",
      "=================================================================\n",
      "Total params: 11251 (43.95 KB)\n",
      "Trainable params: 11251 (43.95 KB)\n",
      "Non-trainable params: 0 (0.00 Byte)\n",
      "_________________________________________________________________\n"
     ]
    }
   ],
   "source": [
    "# Initialize the LSTM model\n",
    "model = Sequential()\n",
    "model.add(LSTM(units=50, activation='relu', input_shape=(X_train.shape[1], X_train.shape[2])))\n",
    "model.add(Dropout(0.2))\n",
    "model.add(Dense(units=1))\n",
    "\n",
    "# Compile the model\n",
    "model.compile(optimizer='adam', loss='mean_squared_error')\n",
    "\n",
    "# Display model architecture\n",
    "model.summary()"
   ]
  },
  {
   "cell_type": "markdown",
   "id": "37b18886",
   "metadata": {},
   "source": [
    "# 🏋️ 5. Train the LSTM Model\n",
    "We train the model using training data with 20 epochs and a batch size of 50, reserving 10% for validation."
   ]
  },
  {
   "cell_type": "code",
   "execution_count": 5,
   "id": "a12f85c1",
   "metadata": {},
   "outputs": [
    {
     "name": "stdout",
     "output_type": "stream",
     "text": [
      "Epoch 1/20\n",
      "WARNING:tensorflow:From C:\\Users\\Administrator\\anaconda3\\lib\\site-packages\\keras\\src\\utils\\tf_utils.py:492: The name tf.ragged.RaggedTensorValue is deprecated. Please use tf.compat.v1.ragged.RaggedTensorValue instead.\n",
      "\n",
      "34/34 [==============================] - 5s 51ms/step - loss: 0.0220 - val_loss: 0.0022\n",
      "Epoch 2/20\n",
      "34/34 [==============================] - 1s 35ms/step - loss: 0.0024 - val_loss: 0.0015\n",
      "Epoch 3/20\n",
      "34/34 [==============================] - 1s 35ms/step - loss: 0.0020 - val_loss: 0.0024\n",
      "Epoch 4/20\n",
      "34/34 [==============================] - 1s 38ms/step - loss: 0.0022 - val_loss: 8.5028e-04\n",
      "Epoch 5/20\n",
      "34/34 [==============================] - 1s 34ms/step - loss: 0.0013 - val_loss: 0.0014\n",
      "Epoch 6/20\n",
      "34/34 [==============================] - 1s 39ms/step - loss: 0.0017 - val_loss: 9.0967e-04\n",
      "Epoch 7/20\n",
      "34/34 [==============================] - 1s 35ms/step - loss: 0.0014 - val_loss: 0.0015\n",
      "Epoch 8/20\n",
      "34/34 [==============================] - 1s 36ms/step - loss: 0.0013 - val_loss: 7.0745e-04\n",
      "Epoch 9/20\n",
      "34/34 [==============================] - 2s 57ms/step - loss: 0.0013 - val_loss: 0.0020\n",
      "Epoch 10/20\n",
      "34/34 [==============================] - 2s 52ms/step - loss: 0.0015 - val_loss: 5.4621e-04\n",
      "Epoch 11/20\n",
      "34/34 [==============================] - 2s 52ms/step - loss: 0.0014 - val_loss: 7.8337e-04\n",
      "Epoch 12/20\n",
      "34/34 [==============================] - 1s 35ms/step - loss: 0.0013 - val_loss: 0.0010\n",
      "Epoch 13/20\n",
      "34/34 [==============================] - 2s 50ms/step - loss: 0.0013 - val_loss: 5.3866e-04\n",
      "Epoch 14/20\n",
      "34/34 [==============================] - 1s 41ms/step - loss: 0.0012 - val_loss: 5.6892e-04\n",
      "Epoch 15/20\n",
      "34/34 [==============================] - 1s 36ms/step - loss: 0.0010 - val_loss: 5.0126e-04\n",
      "Epoch 16/20\n",
      "34/34 [==============================] - 1s 34ms/step - loss: 0.0013 - val_loss: 6.7641e-04\n",
      "Epoch 17/20\n",
      "34/34 [==============================] - 1s 33ms/step - loss: 0.0010 - val_loss: 5.5251e-04\n",
      "Epoch 18/20\n",
      "34/34 [==============================] - 1s 39ms/step - loss: 0.0011 - val_loss: 6.2393e-04\n",
      "Epoch 19/20\n",
      "34/34 [==============================] - 1s 38ms/step - loss: 0.0011 - val_loss: 5.2328e-04\n",
      "Epoch 20/20\n",
      "34/34 [==============================] - 1s 40ms/step - loss: 0.0012 - val_loss: 4.9178e-04\n"
     ]
    }
   ],
   "source": [
    "# Train the model\n",
    "history = model.fit(X_train, Y_train, epochs=20, batch_size=50, validation_split=0.1)"
   ]
  },
  {
   "cell_type": "markdown",
   "id": "bf948236",
   "metadata": {},
   "source": [
    "# 📉 6. Visualize Training and Validation Loss\n",
    "This helps us understand if the model is learning steadily and not overfitting."
   ]
  },
  {
   "cell_type": "code",
   "execution_count": 6,
   "id": "332ccd10",
   "metadata": {},
   "outputs": [
    {
     "data": {
      "image/png": "[encoded data removed]",
      "text/plain": [
       "<Figure size 576x288 with 1 Axes>"
      ]
     },
     "metadata": {
      "needs_background": "light"
     },
     "output_type": "display_data"
    }
   ],
   "source": [
    "# Plot the training and validation loss\n",
    "loss = history.history['loss']\n",
    "val_loss = history.history['val_loss']\n",
    "epochs = range(len(loss))\n",
    "\n",
    "plt.figure(figsize=(8, 4))\n",
    "plt.plot(epochs, loss, 'b-', label='Training Loss')\n",
    "plt.plot(epochs, val_loss, 'r--', label='Validation Loss')\n",
    "plt.title(\"Training vs Validation Loss\")\n",
    "plt.xlabel(\"Epoch\")\n",
    "plt.ylabel(\"Loss\")\n",
    "plt.legend()\n",
    "plt.grid(True)\n",
    "plt.show()"
   ]
  },
  {
   "cell_type": "markdown",
   "id": "93e82c9c",
   "metadata": {},
   "source": [
    "# 🧪 7. Prepare Test Data and Make Predictions\n",
    "We combine the last 60 days of training data with the test data to create proper input sequences for prediction."
   ]
  },
  {
   "cell_type": "code",
   "execution_count": 7,
   "id": "c685be55",
   "metadata": {},
   "outputs": [
    {
     "name": "stdout",
     "output_type": "stream",
     "text": [
      "X_test shape: (513, 60, 5)\n",
      "Y_test shape: (513,)\n"
     ]
    }
   ],
   "source": [
    "# Combine last 60 days of training data with test data\n",
    "last_60_days = bitcoin_data_training.tail(60)\n",
    "combined_data = pd.concat([last_60_days, bitcoin_data_testing], ignore_index=True)\n",
    "combined_data = combined_data.drop(['Date', 'Adj Close'], axis=1)\n",
    "\n",
    "# Scale combined input\n",
    "scaled_combined_data = scaler.transform(combined_data)\n",
    "\n",
    "# Create test sequences\n",
    "X_test, Y_test = [], []\n",
    "for i in range(60, scaled_combined_data.shape[0]):\n",
    "    X_test.append(scaled_combined_data[i-60:i])\n",
    "    Y_test.append(scaled_combined_data[i, 0])\n",
    "\n",
    "X_test, Y_test = np.array(X_test), np.array(Y_test)\n",
    "\n",
    "print(\"X_test shape:\", X_test.shape)\n",
    "print(\"Y_test shape:\", Y_test.shape)"
   ]
  },
  {
   "cell_type": "markdown",
   "id": "85c40180",
   "metadata": {},
   "source": [
    "# 🔮 8. Predict and Inverse Transform\n",
    "We predict Bitcoin prices using the trained model and convert the results back to original price scale."
   ]
  },
  {
   "cell_type": "code",
   "execution_count": 8,
   "id": "fac6760d",
   "metadata": {},
   "outputs": [
    {
     "name": "stdout",
     "output_type": "stream",
     "text": [
      "17/17 [==============================] - 1s 13ms/step\n",
      "Predicted shape: (513, 1)\n"
     ]
    }
   ],
   "source": [
    "# Make predictions on test data\n",
    "Y_pred = model.predict(X_test)\n",
    "\n",
    "# Inverse scaling\n",
    "scaling_factor = 1 / scaler.scale_[0]  # Only for 'Open' price column\n",
    "Y_pred = Y_pred * scaling_factor\n",
    "Y_test = Y_test * scaling_factor\n",
    "\n",
    "print(\"Predicted shape:\", Y_pred.shape)"
   ]
  },
  {
   "cell_type": "markdown",
   "id": "b1bfb583",
   "metadata": {},
   "source": [
    "# 📈 9. Visualize Predicted vs Real Prices\n",
    "We compare the real Bitcoin prices with those predicted by the LSTM model."
   ]
  },
  {
   "cell_type": "code",
   "execution_count": 9,
   "id": "7190ccaa",
   "metadata": {},
   "outputs": [
    {
     "data": {
      "image/png": "[encoded data removed]",
      "text/plain": [
       "<Figure size 1008x360 with 1 Axes>"
      ]
     },
     "metadata": {
      "needs_background": "light"
     },
     "output_type": "display_data"
    }
   ],
   "source": [
    "plt.figure(figsize=(14, 5))\n",
    "plt.plot(Y_test, color='red', label='Real Bitcoin Price')\n",
    "plt.plot(Y_pred, color='green', label='Predicted Bitcoin Price')\n",
    "plt.title('Bitcoin Price Prediction using LSTM')\n",
    "plt.xlabel('Time')\n",
    "plt.ylabel('Price (USD)')\n",
    "plt.legend()\n",
    "plt.grid(True)\n",
    "plt.show()"
   ]
  },
  {
   "cell_type": "markdown",
   "id": "3e8ed325",
   "metadata": {},
   "source": [
    "# 📊 10. Evaluate Model Performance\n",
    "We evaluate the LSTM model using common regression metrics: MAE, MSE, RMSE, and R² Score."
   ]
  },
  {
   "cell_type": "code",
   "execution_count": 10,
   "id": "bc873b7e",
   "metadata": {},
   "outputs": [
    {
     "name": "stdout",
     "output_type": "stream",
     "text": [
      "Mean Absolute Error (MAE): 4484.22\n",
      "Mean Squared Error (MSE): 70947708.00\n",
      "Root Mean Squared Error (RMSE): 8423.05\n",
      "R² Score: 0.7793\n"
     ]
    }
   ],
   "source": [
    "import numpy as np\n",
    "\n",
    "# Flatten arrays just in case\n",
    "y_true = Y_test.flatten()\n",
    "y_pred = Y_pred.flatten()\n",
    "\n",
    "# Calculate evaluation metrics\n",
    "mae = mean_absolute_error(y_true, y_pred)\n",
    "mse = mean_squared_error(y_true, y_pred)\n",
    "rmse = np.sqrt(mse)\n",
    "r2 = r2_score(y_true, y_pred)\n",
    "\n",
    "print(f\"Mean Absolute Error (MAE): {mae:.2f}\")\n",
    "print(f\"Mean Squared Error (MSE): {mse:.2f}\")\n",
    "print(f\"Root Mean Squared Error (RMSE): {rmse:.2f}\")\n",
    "print(f\"R² Score: {r2:.4f}\")"
   ]
  },
  {
   "cell_type": "markdown",
   "id": "5041d83e",
   "metadata": {},
   "source": [
    "Areas to Improve:\n",
    "\n",
    "1. Increasing model complexity (more LSTM layers or units).\n",
    "\n",
    "2. Tuning hyperparameters (batch size, learning rate).\n",
    "\n",
    "3. Adding more features (volume, technical indicators)."
   ]
  }
 ],
 "metadata": {
  "kernelspec": {
   "display_name": "Python 3 (ipykernel)",
   "language": "python",
   "name": "python3"
  },
  "language_info": {
   "codemirror_mode": {
    "name": "ipython",
    "version": 3
   },
   "file_extension": ".py",
   "mimetype": "text/x-python",
   "name": "python",
   "nbconvert_exporter": "python",
   "pygments_lexer": "ipython3",
   "version": "3.9.7"
  }
 },
 "nbformat": 4,
 "nbformat_minor": 5
}
